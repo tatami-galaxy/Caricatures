{
 "cells": [
  {
   "cell_type": "code",
   "execution_count": 1,
   "id": "975b8951-366d-4add-aa11-8291ec8a1bdc",
   "metadata": {},
   "outputs": [],
   "source": [
    "from tqdm.auto import tqdm\n",
    "from datasets import load_dataset\n",
    "from transformers import AutoTokenizer, AutoModelForCausalLM, BitsAndBytesConfig\n",
    "from peft import PeftModelForCausalLM"
   ]
  },
  {
   "cell_type": "code",
   "execution_count": 2,
   "id": "91fab3c7",
   "metadata": {},
   "outputs": [],
   "source": [
    "tokenizer = AutoTokenizer.from_pretrained(\n",
    "        \"google/gemma-2-2b\",\n",
    "    )"
   ]
  },
  {
   "cell_type": "code",
   "execution_count": 3,
   "id": "04acd497",
   "metadata": {},
   "outputs": [
    {
     "data": {
      "application/vnd.jupyter.widget-view+json": {
       "model_id": "a64f1d9520154576b5a2c18cb5b3d3c2",
       "version_major": 2,
       "version_minor": 0
      },
      "text/plain": [
       "Loading checkpoint shards:   0%|          | 0/3 [00:00<?, ?it/s]"
      ]
     },
     "metadata": {},
     "output_type": "display_data"
    }
   ],
   "source": [
    "model = AutoModelForCausalLM.from_pretrained(\n",
    "    \"/home/drdo/Caricatures/models/scan_gemma2-2b/checkpoint-95000\",\n",
    "    #quantization_config=BitsAndBytesConfig(load_in_8bit=True),\n",
    "    #attn_implementation='eager'\n",
    ").to(\"cuda\")"
   ]
  },
  {
   "cell_type": "code",
   "execution_count": 4,
   "id": "229607d2",
   "metadata": {},
   "outputs": [],
   "source": [
    "ft_model = PeftModelForCausalLM.from_pretrained(model=model, model_id=\"/home/drdo/Caricatures/models/scan_gemma2-2b/checkpoint-95000\")"
   ]
  },
  {
   "cell_type": "code",
   "execution_count": 5,
   "id": "54539932-d248-4c9f-9085-ec4b3a633196",
   "metadata": {},
   "outputs": [],
   "source": [
    "#model.generation_config.max_length = 256\n",
    "#model.to(\"cuda\")"
   ]
  },
  {
   "cell_type": "code",
   "execution_count": 6,
   "id": "bf8598b0-3238-48c4-84e2-4a10926400fc",
   "metadata": {},
   "outputs": [],
   "source": [
    "dataset = load_dataset(\"scan\", \"simple\", trust_remote_code=True)"
   ]
  },
  {
   "cell_type": "code",
   "execution_count": 16,
   "id": "01a0ec91",
   "metadata": {},
   "outputs": [
    {
     "data": {
      "text/plain": [
       "{'commands': 'run right twice after walk right twice',\n",
       " 'actions': 'I_TURN_RIGHT I_WALK I_TURN_RIGHT I_WALK I_TURN_RIGHT I_RUN I_TURN_RIGHT I_RUN'}"
      ]
     },
     "execution_count": 16,
     "metadata": {},
     "output_type": "execute_result"
    }
   ],
   "source": [
    "dataset['test'][1]"
   ]
  },
  {
   "cell_type": "code",
   "execution_count": 21,
   "id": "1d8c4ba5-c140-443e-9aa9-38d98ba5b639",
   "metadata": {},
   "outputs": [
    {
     "data": {
      "text/plain": [
       "'I_TURN_RIGHT I_WALK I_TURN_RIGHT I_WALK I_TURN_RIGHT I_WALK'"
      ]
     },
     "execution_count": 21,
     "metadata": {},
     "output_type": "execute_result"
    }
   ],
   "source": [
    "inputs = tokenizer(\n",
    "    \"run right twice after walk right twice\", return_tensors=\"pt\").to(\"cuda\")\n",
    "tokenizer.decode(ft_model.generate(**inputs, max_new_tokens=256)[0]).split('<bos>')[-1].split('<eos>')[0]"
   ]
  },
  {
   "cell_type": "code",
   "execution_count": 21,
   "id": "7f4815cb",
   "metadata": {},
   "outputs": [
    {
     "data": {
      "text/plain": [
       "'<bos>run thrice and walk opposite left<bos>I_RUN I_RUN I_RUN I_TURN_LEFT I_TURN_LEFT I_RUN<eos>'"
      ]
     },
     "execution_count": 21,
     "metadata": {},
     "output_type": "execute_result"
    }
   ],
   "source": [
    "tokenizer.decode(model.generate(**inputs, max_new_tokens=256)[0].to(\"cpu\"))"
   ]
  },
  {
   "cell_type": "code",
   "execution_count": 22,
   "id": "db52e35b",
   "metadata": {},
   "outputs": [],
   "source": [
    "test_dataset = dataset['test'].select(range(100))"
   ]
  },
  {
   "cell_type": "code",
   "execution_count": 23,
   "id": "d77f4f82",
   "metadata": {},
   "outputs": [
    {
     "data": {
      "application/vnd.jupyter.widget-view+json": {
       "model_id": "abdbc597158f4fe99a142ffa623bf55d",
       "version_major": 2,
       "version_minor": 0
      },
      "text/plain": [
       "  0%|          | 0/100 [00:00<?, ?it/s]"
      ]
     },
     "metadata": {},
     "output_type": "display_data"
    },
    {
     "name": "stdout",
     "output_type": "stream",
     "text": [
      "0.05\n"
     ]
    }
   ],
   "source": [
    "count = 0\n",
    "bar = tqdm(range(len(test_dataset)))\n",
    "for example in test_dataset:\n",
    "    command = example['commands']\n",
    "    label = example['actions']\n",
    "    inputs = tokenizer(command+\" <sep>\", return_tensors=\"pt\").to(\"cuda\")\n",
    "    output = model.generate(**inputs, max_new_tokens=256)[0].to(\"cpu\")\n",
    "    #output = model.generate(**inputs, num_beams=5, max_new_tokens=256)[0]\n",
    "    output = tokenizer.decode(output).split('<bos>')[-1].split('<eos>')[0].strip()\n",
    "    if output == label:\n",
    "        count += 1\n",
    "    bar.update(1)\n",
    "\n",
    "print(count/len(test_dataset))"
   ]
  },
  {
   "cell_type": "code",
   "execution_count": null,
   "id": "2af6ed29",
   "metadata": {},
   "outputs": [],
   "source": [
    "# distilgpt2 : acc = 0.6406025824964132\n",
    "# distilgpt2 : acc = 0.67 -> beam search (beam size = 3)\n",
    "# gpt2 : acc = 0.810856049736968"
   ]
  }
 ],
 "metadata": {
  "kernelspec": {
   "display_name": "Python 3 (ipykernel)",
   "language": "python",
   "name": "python3"
  },
  "language_info": {
   "codemirror_mode": {
    "name": "ipython",
    "version": 3
   },
   "file_extension": ".py",
   "mimetype": "text/x-python",
   "name": "python",
   "nbconvert_exporter": "python",
   "pygments_lexer": "ipython3",
   "version": "3.12.0"
  }
 },
 "nbformat": 4,
 "nbformat_minor": 5
}
