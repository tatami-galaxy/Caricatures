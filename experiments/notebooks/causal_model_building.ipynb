{
 "cells": [
  {
   "cell_type": "markdown",
   "id": "58cbd3ec-a667-4f70-9c08-1f08e5c34e85",
   "metadata": {},
   "source": [
    "## Exploring SCAN"
   ]
  },
  {
   "cell_type": "markdown",
   "id": "1dbdbaec-653f-448b-a1bc-ac02b0dd5006",
   "metadata": {},
   "source": [
    "Each example in the SCAN dataset is aimed at converting a natural language command to a sequence of actions. \n",
    "\n",
    "$$ InputCommand \\longrightarrow OutputSequence$$\n",
    "\n",
    "Example: \n",
    "\n",
    "$$jump \\qquad  thrice \\longrightarrow JUMP \\qquad  JUMP\\qquad  JUMP$$\n",
    "\n",
    "#### Interpreting Input Command\n",
    "\n",
    "The input command is itself understood compositionally and can be generated with a basic PS grammar. The nodes involve: \n",
    "\n",
    "1. C $\\longrightarrow$ S and S\n",
    "2. C $\\longrightarrow$ S after S\n",
    "3. C $\\longrightarrow$ S\n",
    "4. S $\\longrightarrow$ V twice\n",
    "5. S $\\longrightarrow$ V thrice\n",
    "6. S $\\longrightarrow$ V\n",
    "7. V $\\longrightarrow$ D[1] opposite D[2]\n",
    "8. V $\\longrightarrow$ D[1] around D[2]\n",
    "9. V $\\longrightarrow$ D\n",
    "10. V $\\longrightarrow$ U\n",
    "11. D $\\longrightarrow$ U left\n",
    "12. D $\\longrightarrow$ U right\n",
    "13. D $\\longrightarrow$ turn left\n",
    "14. D $\\longrightarrow$ turn right\n",
    "15. U $\\longrightarrow$ walk\n",
    "16. U $\\longrightarrow$ run\n",
    "17. U $\\longrightarrow$ jump\n",
    "18. U $\\longrightarrow$ look\n",
    "\n",
    "Where C=Full Command, S= Sentence Phrase, V= Verb Phrase, D= Direction Phrase, U= Verb"
   ]
  },
  {
   "cell_type": "code",
   "execution_count": 3,
   "id": "877062fa-4184-4829-a988-0a62d1b8f4f5",
   "metadata": {},
   "outputs": [],
   "source": [
    "# defining a class Node\n",
    "# it is used to represent nodes in a composition tree for a given command\n",
    "# calling Node(command) will initialize root of a composition tree for that command\n",
    "class Node:\n",
    "    # create new instance of class with input command\n",
    "    def __init__(self, command): \n",
    "        self.command = command # assigns command string to instance variable\n",
    "        self.children = [] # creates an empty list of children nodes\n",
    "    \n",
    "    # function to create child nodes\n",
    "    def add_child(self, child): \n",
    "        self.children.append(child)\n",
    "    \n",
    "    # function to define how node instance is described as a string\n",
    "    def __repr__(self, level=0):\n",
    "        ret = \"\\t\" * level + repr(self.command) + \"\\n\"\n",
    "        for child in self.children:\n",
    "            ret += child.__repr__(level + 1) # loops through children to increase indent level\n",
    "        return ret"
   ]
  },
  {
   "cell_type": "code",
   "execution_count": 4,
   "id": "27f6ab06-5c00-4c85-a72b-4d808f4547da",
   "metadata": {},
   "outputs": [
    {
     "name": "stdout",
     "output_type": "stream",
     "text": [
      "'jump around left'\n",
      "\t'jump around'\n",
      "\t\t'jump'\n",
      "\t\t'around'\n",
      "\t'left'\n",
      "\n"
     ]
    }
   ],
   "source": [
    "# function to build composition tree using a command\n",
    "def build_composition_tree(command):\n",
    "    # for one command simple decomposition\n",
    "    # to be replaced with phrase structure grammar\n",
    "    decompositions = {\n",
    "        \"jump around left\": [\"jump around\", \"left\"],\n",
    "        \"jump around\": [\"jump\", \"around\"],\n",
    "        \"around left\": [\"around\", \"left\"],\n",
    "        \"jump\": [],\n",
    "        \"around\": [],\n",
    "        \"left\": [],\n",
    "    }\n",
    "    # initiating tree structure with decompositions acting as children nodes\n",
    "    root = Node(command)\n",
    "    if command in decompositions:\n",
    "        for sub_command in decompositions[command]:\n",
    "            root.add_child(build_composition_tree(sub_command))\n",
    "    return root\n",
    "\n",
    "# Example command from SCAN dataset\n",
    "command = \"jump around left\"\n",
    "composition_tree = build_composition_tree(command)\n",
    "print(composition_tree)"
   ]
  },
  {
   "cell_type": "markdown",
   "id": "fee54340-703b-4206-8f34-4c2308aeeff7",
   "metadata": {},
   "source": [
    "#### Mapping Input Command to Output Sequence\n",
    "\n",
    "The output action sequence is created by the interpretation function which takes in elements at each child node and "
   ]
  },
  {
   "cell_type": "code",
   "execution_count": 5,
   "id": "bed579c1-d89e-4b4d-b45f-c751f291ddcb",
   "metadata": {},
   "outputs": [
    {
     "name": "stdout",
     "output_type": "stream",
     "text": [
      "['JUMP', 'LTURN', 'LTURN', 'LTURN', 'LTURN', 'JUMP', 'LTURN', 'LTURN', 'LTURN', 'LTURN']\n"
     ]
    }
   ],
   "source": [
    "def interpret_command(command):\n",
    "    action_sequences = {\n",
    "    \"jump\": [\"JUMP\"],\n",
    "    \"walk\": [\"WALK\"],\n",
    "    \"look\": [\"LOOK\"],\n",
    "    \"run\": [\"RUN\"],\n",
    "    \"turn left\": [\"LTURN\"],\n",
    "    \"turn right\": [\"RTURN\"],\n",
    "    \"around left\": [\"LTURN\", \"LTURN\", \"LTURN\", \"LTURN\"],\n",
    "    \"around right\": [\"RTURN\", \"RTURN\", \"RTURN\", \"RTURN\"]\n",
    "    }\n",
    "    decompositions = {\n",
    "        \"jump around left\": [\"jump\", \"around left\"],\n",
    "        \"jump around right\": [\"jump\", \"around right\"],\n",
    "        \"walk around left\": [\"walk\", \"around left\"],\n",
    "        \"walk around right\": [\"walk\", \"around right\"],\n",
    "        \"jump twice\": [\"jump\", \"jump\"],\n",
    "        \"walk twice\": [\"walk\", \"walk\"],\n",
    "        \"jump thrice\": [\"jump\", \"jump\", \"jump\"],\n",
    "        \"walk thrice\": [\"walk\", \"walk\", \"walk\"],\n",
    "        \"jump around left twice\": [\"jump around left\", \"jump around left\"],\n",
    "        \"jump around left thrice\": [\"jump around left\", \"jump around left\", \"jump around left\"],\n",
    "        \"jump around right twice\": [\"jump around right\", \"jump around right\"],\n",
    "        \"jump around right thrice\": [\"jump around right\", \"jump around right\", \"jump around right\"],\n",
    "        \"jump and walk\": [\"jump\", \"walk\"],\n",
    "        \"walk and jump\": [\"walk\", \"jump\"],\n",
    "        \"jump after walk\": [\"walk\", \"jump\"],\n",
    "        \"walk after jump\": [\"jump\", \"walk\"]\n",
    "    }\n",
    "    \n",
    "    if command in action_sequences:\n",
    "        return action_sequences[command]\n",
    "    \n",
    "    if command in decompositions:\n",
    "        result = []\n",
    "        for sub_command in decompositions[command]:\n",
    "            result.extend(interpret_command(sub_command))\n",
    "        return result\n",
    "    \n",
    "    return []\n",
    "\n",
    "# Example command from SCAN dataset\n",
    "command = \"jump around left twice\"\n",
    "action_sequence = interpret_command(command)\n",
    "print(action_sequence)"
   ]
  },
  {
   "cell_type": "markdown",
   "id": "6b900420-38cc-403d-b4d4-99d0980be607",
   "metadata": {
    "jp-MarkdownHeadingCollapsed": true
   },
   "source": [
    "## Building Causal Model"
   ]
  },
  {
   "cell_type": "code",
   "execution_count": null,
   "id": "42a3bc43-52c2-43ff-8f7e-77a3084e42c2",
   "metadata": {},
   "outputs": [],
   "source": []
  }
 ],
 "metadata": {
  "kernelspec": {
   "display_name": "caricaturesenv",
   "language": "python",
   "name": "caricaturesenv"
  },
  "language_info": {
   "codemirror_mode": {
    "name": "ipython",
    "version": 3
   },
   "file_extension": ".py",
   "mimetype": "text/x-python",
   "name": "python",
   "nbconvert_exporter": "python",
   "pygments_lexer": "ipython3",
   "version": "3.12.4"
  }
 },
 "nbformat": 4,
 "nbformat_minor": 5
}
