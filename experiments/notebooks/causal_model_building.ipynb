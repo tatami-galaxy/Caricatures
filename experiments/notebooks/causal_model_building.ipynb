{
 "cells": [
  {
   "cell_type": "markdown",
   "id": "58cbd3ec-a667-4f70-9c08-1f08e5c34e85",
   "metadata": {},
   "source": [
    "# SCAN Dataset"
   ]
  },
  {
   "cell_type": "markdown",
   "id": "1dbdbaec-653f-448b-a1bc-ac02b0dd5006",
   "metadata": {},
   "source": [
    "Each example in the SCAN dataset is aimed at converting a natural language command to a sequence of actions. \n",
    "\n",
    "$$ InputCommand \\longrightarrow OutputSequence$$\n",
    "\n",
    "Example: \n",
    "\n",
    "$$jump \\qquad  thrice \\longrightarrow JUMP \\qquad  JUMP\\qquad  JUMP$$"
   ]
  },
  {
   "cell_type": "markdown",
   "id": "d1059489-cd0a-4935-b5d4-495e77547d5c",
   "metadata": {},
   "source": [
    "## Phrase Structure Grammar \n",
    "\n",
    "The input commands can be generated with a basic PS grammar starting from C and ending with U: \n",
    "\n",
    "1. C $\\longrightarrow$ S and S\n",
    "2. C $\\longrightarrow$ S after S\n",
    "3. C $\\longrightarrow$ S\n",
    "4. S $\\longrightarrow$ V twice\n",
    "5. S $\\longrightarrow$ V thrice\n",
    "6. S $\\longrightarrow$ V\n",
    "7. V $\\longrightarrow$ D[1] opposite D[2]\n",
    "8. V $\\longrightarrow$ D[1] around D[2]\n",
    "9. V $\\longrightarrow$ D\n",
    "10. V $\\longrightarrow$ U\n",
    "11. D $\\longrightarrow$ U left\n",
    "12. D $\\longrightarrow$ U right\n",
    "13. D $\\longrightarrow$ turn left\n",
    "14. D $\\longrightarrow$ turn right\n",
    "15. U $\\longrightarrow$ walk\n",
    "16. U $\\longrightarrow$ run\n",
    "17. U $\\longrightarrow$ jump\n",
    "18. U $\\longrightarrow$ look\n",
    "\n",
    "Where C=Full Command, S= Sentence Phrase, V= Verb Phrase, D= Direction Phrase, U= Verb"
   ]
  },
  {
   "cell_type": "markdown",
   "id": "53d5ad59-d47c-47bd-98f1-878d754c1e50",
   "metadata": {},
   "source": [
    "## Interpretation Function\n",
    "\n",
    "[[walk]] = WALK \n",
    "\n",
    "[[jump]] = JUMP\n",
    "\n",
    "[[run]]= RUN\n",
    "\n",
    "[[look]]= LOOK\n",
    "\n",
    "[[turn left]] = LTURN\n",
    "\n",
    "[[turn right]] = RTURN\n",
    "\n",
    "[[u left]]= LTURN [[u]]\n",
    "\n",
    "[[u right]]= RTURN [[u]]\n",
    "\n",
    "[[turn opposite left]] = LTURN LTURN\n",
    "\n",
    "[[turn opposite right]] = RTURN RTURN\n",
    "\n",
    "[[u opposite left]] = [[turn opposite left]] [[u]]\n",
    "\n",
    "[[u opposite right]] = [[turn opposite right]] [[u]]\n",
    "\n",
    "[[turn around left]] = LTURN LTURN LTURN LTURN\n",
    "\n",
    "[[turn around right]] = RTURN RTURN RTURN RTURN\n",
    "\n",
    "[[u around left]]= LTURN [[u]] LTURN [[u]] LTURN [[u]] LTURN [[u]]\n",
    "\n",
    "[[u around right]]= RTURN [[u]] RTURN [[u]] RTURN [[u]] RTURN [[u]]\n",
    "\n",
    "[[x twice]] = [[x]] [[x]]\n",
    "\n",
    "[[x thrice]] = [[x]] [[x]] [[x]]\n",
    "\n",
    "[[x1 and x2]] = [[x1]] [[x2]]\n",
    "\n",
    "[[x1 after x2]] = [[x2]] [[x1]] "
   ]
  },
  {
   "cell_type": "markdown",
   "id": "6b900420-38cc-403d-b4d4-99d0980be607",
   "metadata": {},
   "source": [
    "## Building Causal Model\n",
    "\n",
    "Ideal Causal Algorithm: \n",
    "\n",
    "1. Layer 0: For a given command like \"jump thrice and turn left\", get list of leaf nodes.\n",
    "2. Layer 1: Get the phrase divisions based on \"and\" and \"after\" \n",
    "3. Layer 2: Use interpretation function to get an interpretation for each node\n",
    "4. Layer 3: Use variable binding to remove all variables\n",
    "5. Layer 4: Get final action sequence"
   ]
  },
  {
   "cell_type": "code",
   "execution_count": 1,
   "id": "42a3bc43-52c2-43ff-8f7e-77a3084e42c2",
   "metadata": {},
   "outputs": [
    {
     "name": "stdout",
     "output_type": "stream",
     "text": [
      "['jump', 'thrice', 'and', 'turn', 'left']\n"
     ]
    }
   ],
   "source": [
    "# layer 0: get list of leaf nodes\n",
    "command= \"jump thrice and turn left\"\n",
    "l0=command.split()\n",
    "print(l0)"
   ]
  },
  {
   "cell_type": "code",
   "execution_count": 2,
   "id": "db551789-f41a-4a55-8127-9e3a77e77aec",
   "metadata": {},
   "outputs": [
    {
     "name": "stdout",
     "output_type": "stream",
     "text": [
      "[['jump', 'thrice'], ['turn', 'left']]\n"
     ]
    }
   ],
   "source": [
    "# layer 1: get phrase divisions\n",
    "if 'and' in l0:\n",
    "    l11=l0[:l0.index(\"and\")] \n",
    "    l12= l0[l0.index(\"and\")+1:]\n",
    "elif 'after' in l0:\n",
    "    l11= l0[l0.index(\"after\")+1:]\n",
    "    l12=l0[:l0.index(\"after\")] \n",
    "else:\n",
    "    l11=l0\n",
    "    l12=[]\n",
    "l1=[l11,l12]\n",
    "print(l1)"
   ]
  },
  {
   "cell_type": "code",
   "execution_count": 3,
   "id": "188cd579-9341-401a-9919-d0165edfc9f6",
   "metadata": {},
   "outputs": [
    {
     "name": "stdout",
     "output_type": "stream",
     "text": [
      "[['JUMP', ['[[x]][[x]][[x]]']], ['LTURN']]\n"
     ]
    }
   ],
   "source": [
    "# layer 2: apply interpretation function depending on word class\n",
    "actions=[\"walk\",\"run\",\"jump\", \"look\"]\n",
    "turns=[\"around\",\"opposite\"]\n",
    "directions=[\"right\", \"left\"]\n",
    "nums=[\"twice\",\"thrice\"]\n",
    "\n",
    "l21=[]\n",
    "for word in l11:\n",
    "    if word in actions:\n",
    "        l21.append(word.upper())\n",
    "    elif word in nums:\n",
    "        if word==\"twice\":\n",
    "            l21.append([\"[[x]][[x]]\"])\n",
    "        elif word==\"thrice\":\n",
    "            l21.append([\"[[x]][[x]][[x]]\"])\n",
    "    elif word in turns:\n",
    "        if word==\"around\":\n",
    "            l21.append([\"[[y]][[y]][[y]][[y]]\"])\n",
    "        elif word==\"opposite\":\n",
    "            l21.append([\"[[y]][[y]]\"])\n",
    "    elif word in directions:\n",
    "        if word==\"right\":\n",
    "            l21.append(\"RTURN\")\n",
    "        elif word==\"left\":\n",
    "            l21.append(\"LTURN\")\n",
    "\n",
    "l22=[]\n",
    "for word in l12:\n",
    "    if word in actions:\n",
    "        l22.append(word.upper())\n",
    "    elif word in nums:\n",
    "        if word==\"twice\":\n",
    "            l22.append([\"[[x]][[x]]\"])\n",
    "        elif word==\"thrice\":\n",
    "            l22.append([\"[[x]][[x]][[x]]\"])\n",
    "    elif word in turns:\n",
    "        if word==\"around\":\n",
    "            l22.append([\"[[y]][[y]][[y]][[y]]\"])\n",
    "        elif word==\"opposite\":\n",
    "            l22.append([\"[[y]][[y]]\"])\n",
    "    elif word in directions:\n",
    "        if word==\"right\":\n",
    "            l22.append(\"RTURN\")\n",
    "        elif word==\"left\":\n",
    "            l22.append(\"LTURN\")   \n",
    "\n",
    "l2=[l21,l22]\n",
    "print(l2)"
   ]
  },
  {
   "cell_type": "code",
   "execution_count": 4,
   "id": "e76c0aa1-4f43-437f-bc72-a970c3dec43a",
   "metadata": {},
   "outputs": [
    {
     "name": "stdout",
     "output_type": "stream",
     "text": [
      "[['JUMPJUMPJUMP'], ['LTURN']]\n"
     ]
    }
   ],
   "source": [
    "# layer 3: variable binding\n",
    "l31=[]\n",
    "for item in l21:\n",
    "    if item ==['[[x]][[x]][[x]]']:\n",
    "        l31.append (l21[l21.index(item)-1]*3)\n",
    "    if item =='[[x]][[x]]]':\n",
    "        l31.append (l21[l21.index(item)-1]*2)\n",
    "l32=[]\n",
    "for item in l22:\n",
    "    if item ==['[[[x]][[x]]']:\n",
    "        l32.append (l21[l21.index(item)-1]*3)\n",
    "    if item =='[[x]][[x]]]':\n",
    "        l32.append (l21[l21.index(item)-1]*2)\n",
    "\n",
    "l3=[l31,l22]\n",
    "print(l3)"
   ]
  },
  {
   "cell_type": "code",
   "execution_count": 5,
   "id": "787f1eb3-db9a-4d52-8799-2df934ab3778",
   "metadata": {},
   "outputs": [
    {
     "name": "stdout",
     "output_type": "stream",
     "text": [
      "JUMPJUMPJUMPLTURN\n"
     ]
    }
   ],
   "source": [
    "# layer 4: action sequence output\n",
    "sequence = ''.join([item for sublist in l3 for item in sublist])\n",
    "print(sequence)"
   ]
  },
  {
   "cell_type": "code",
   "execution_count": null,
   "id": "74cee3d3-9c1e-4174-8f08-15e25efb7843",
   "metadata": {},
   "outputs": [],
   "source": []
  }
 ],
 "metadata": {
  "kernelspec": {
   "display_name": "caricaturesenv",
   "language": "python",
   "name": "caricaturesenv"
  },
  "language_info": {
   "codemirror_mode": {
    "name": "ipython",
    "version": 3
   },
   "file_extension": ".py",
   "mimetype": "text/x-python",
   "name": "python",
   "nbconvert_exporter": "python",
   "pygments_lexer": "ipython3",
   "version": "3.12.4"
  }
 },
 "nbformat": 4,
 "nbformat_minor": 5
}
