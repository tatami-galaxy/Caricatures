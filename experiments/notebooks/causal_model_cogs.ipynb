{
 "cells": [
  {
   "cell_type": "markdown",
   "id": "67b857e9-cd39-423f-9fb5-3467abfa41ce",
   "metadata": {},
   "source": [
    "# COGS Dataset\n",
    "\n",
    "Each example is aimed at converting a natural language sentence into it's semantic parse"
   ]
  }
 ],
 "metadata": {
  "kernelspec": {
   "display_name": "caricaturesenv",
   "language": "python",
   "name": "caricaturesenv"
  },
  "language_info": {
   "codemirror_mode": {
    "name": "ipython",
    "version": 3
   },
   "file_extension": ".py",
   "mimetype": "text/x-python",
   "name": "python",
   "nbconvert_exporter": "python",
   "pygments_lexer": "ipython3",
   "version": "3.12.4"
  }
 },
 "nbformat": 4,
 "nbformat_minor": 5
}
