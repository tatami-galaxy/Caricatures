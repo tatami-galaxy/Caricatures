{
 "cells": [
  {
   "cell_type": "markdown",
   "id": "e37f591f-aea1-4268-954f-255631c3ef1d",
   "metadata": {},
   "source": [
    "## Introduction\n",
    "\n",
    "Here we aim to perform build a __causal abstraction model__ [Geiger*, Lu*, Icard, and Potts (2020)](https://arxiv.org/pdf/2106.02997.pdf) for our SCAN data set in a format that can be used for __distributed alignment search__ [Geiger*, Wu*, Potts, Icard, and Goodman (2020)](https://arxiv.org/pdf/2303.02536.pdf) of the model with a neural network\n",
    "\n",
    "The dataset we aim to use is SCAN and we try to build a causal model of SCAN. "
   ]
  },
  {
   "cell_type": "code",
   "execution_count": 2,
   "id": "a961f7a3-e033-4c0d-9458-2c54f6744024",
   "metadata": {},
   "outputs": [],
   "source": [
    "import pyvene\n",
    "from pyvene import CausalModel"
   ]
  },
  {
   "cell_type": "markdown",
   "id": "290a8315-b80b-4a63-9913-315c2af2e4eb",
   "metadata": {},
   "source": [
    "###  SCAN Task\n",
    "\n",
    "Each example in the SCAN dataset is aimed at converting a natural language command to a sequence of actions. \n",
    "\n",
    "$$ InputCommand \\longrightarrow OutputSequence$$\n",
    "\n",
    "Example: \n",
    "\n",
    "$$jump \\qquad  thrice \\longrightarrow JUMP \\qquad  JUMP\\qquad  JUMP$$\n",
    "\n",
    "Unlike the original hierarchical equality task:\n",
    "\n",
    "- Our number of nodes are not fixed due to variable length commands\n",
    "- The number of nodes will increase proportional to number of sentence conjuncts (and/after)\n",
    "- For layer 0, we will have a nodes for each token in command\n",
    "- For layer 1, the function will separate sequence into as many nodes as sentence conjuncts\n",
    "- For layer 2, the function will resolve the twice/thrice statements\n",
    "- For layer 3, the function will resolve the turns\n",
    "- For layer 4 we have complete output"
   ]
  },
  {
   "cell_type": "markdown",
   "id": "2114cb36-30c6-4f07-a7b5-c9474ab8deb8",
   "metadata": {},
   "source": [
    "## Causal Model for SCAN"
   ]
  },
  {
   "cell_type": "code",
   "execution_count": 90,
   "id": "cfb07582-9e61-47fe-86e3-e5ceb4d5c967",
   "metadata": {},
   "outputs": [],
   "source": [
    "# defining vocabulary\n",
    "C= [ \"and\", \"after\"]\n",
    "N=[\"twice\", \"thrice\"]\n",
    "D=[\"turn\",\"left\", \"right\"]\n",
    "V= [\"walk\", \"run\", \"jump\", \"look\"]"
   ]
  },
  {
   "cell_type": "code",
   "execution_count": 73,
   "id": "4209757b-c6ed-469d-ad51-d0881cc3aaab",
   "metadata": {},
   "outputs": [
    {
     "name": "stdout",
     "output_type": "stream",
     "text": [
      "['jump', 'thrice', 'and', 'turn', 'left']\n"
     ]
    }
   ],
   "source": [
    "# getting layer 0 (base) variables\n",
    "input=\"Jump thrice and turn left\"\n",
    "words=S.split()\n",
    "variables_zero=[w.lower() for w in words]\n",
    "print(variables_zero)"
   ]
  },
  {
   "cell_type": "code",
   "execution_count": 81,
   "id": "7f23b99a-e22d-4630-8ebd-79cf8dec0564",
   "metadata": {},
   "outputs": [
    {
     "name": "stdout",
     "output_type": "stream",
     "text": [
      "['jump', 'thrice']\n",
      "['turn', 'left']\n",
      "[['jump', 'thrice'], ['turn', 'left']]\n"
     ]
    }
   ],
   "source": [
    "# getting layer 1 variables\n",
    "seq1=[]\n",
    "seq2=[]\n",
    "for item in variables_zero:\n",
    "    for c in C:\n",
    "        if item==c:\n",
    "            index=variables_zero.index(item)\n",
    "            seq1=[s for s in variables_zero[:index]]\n",
    "            seq2=[s for s in variables_zero[index+1:]]\n",
    "print(seq1)\n",
    "print(seq2)\n",
    "variables_one=[seq1,seq2]\n",
    "print(variables_one)"
   ]
  },
  {
   "cell_type": "code",
   "execution_count": 87,
   "id": "90e63147-2ccf-4ceb-91de-ae3c4ce913e1",
   "metadata": {},
   "outputs": [
    {
     "name": "stdout",
     "output_type": "stream",
     "text": [
      "['jump', 'jump', 'jump']\n",
      "[]\n",
      "[['jump', 'jump', 'jump'], []]\n"
     ]
    }
   ],
   "source": [
    "# getting layer 2 variables\n",
    "seq3=[]\n",
    "seq4=[]\n",
    "for item in variables_one:\n",
    "    for word in item:\n",
    "        for n in N:\n",
    "            if word==n:\n",
    "                index=item.index(word)\n",
    "                if not seq3: #if seq3 is empty\n",
    "                    if word==\"thrice\":\n",
    "                        for i in range(3):\n",
    "                            seq3.append(item[index-1])\n",
    "                    elif word==\"twice\":\n",
    "                        for i in range(2):\n",
    "                            seq3.append(item[index-1])\n",
    "                else: #if seq3 is not empty\n",
    "                    if word==\"thrice\":\n",
    "                        for i in range(3):\n",
    "                            seq4.append(item[index-1])\n",
    "                    elif word==\"twice\":\n",
    "                        for i in range(2):\n",
    "                            seq4.append(item[index-1])\n",
    "print(seq3)\n",
    "print(seq4)\n",
    "variables_two=[seq3,seq4]\n",
    "print(variables_two)"
   ]
  },
  {
   "cell_type": "code",
   "execution_count": 89,
   "id": "96a0e26a-b2ed-4f01-b9ac-677e53adf663",
   "metadata": {},
   "outputs": [
    {
     "name": "stdout",
     "output_type": "stream",
     "text": [
      "[]\n",
      "['LTURN']\n"
     ]
    }
   ],
   "source": [
    "# getting layer 3 variables\n",
    "seq5=[]\n",
    "seq6=[]\n",
    "for item in variables_two:\n",
    "    if not item:\n",
    "        if variables_two.index(item)==0:\n",
    "            item=seq1\n",
    "        else:\n",
    "            item=seq2\n",
    "        for word in item:\n",
    "            if word==\"turn\":\n",
    "                index=item.index(word)+1\n",
    "                # loop for simple turn\n",
    "                if item[index]==\"left\": #leftcase\n",
    "                    if not seq5 and item==seq3 :\n",
    "                        seq5.append(\"LTURN\")\n",
    "                    else:\n",
    "                        seq6.append(\"LTURN\")\n",
    "                elif item[index]==\"right\": #rightcase\n",
    "                    if not seq5:\n",
    "                        seq5.append(\"RTURN\")\n",
    "                    else:\n",
    "                        seq6.append(\"RTURN\")\n",
    "                # loop for opposite turn\n",
    "                elif item[index]==\"opposite\":\n",
    "                    if item[index+1]==\"left\": #leftcase\n",
    "                        if not seq5:\n",
    "                            for i in range (2):\n",
    "                                seq5.append(\"LTURN\")\n",
    "                        else:\n",
    "                            for i in range (2):\n",
    "                                seq6.append(\"LTURN\")\n",
    "                    elif item[index+1]==\"right\": #rightcase\n",
    "                        if not seq5:\n",
    "                            for i in range (2):\n",
    "                                seq5.append(\"RTURN\")\n",
    "                        else:\n",
    "                            for i in range (2):\n",
    "                                seq6.append(\"RTURN\")\n",
    "                # loop for around turn\n",
    "                elif item[index]==\"around\":\n",
    "                    if item[index+1]==\"left\": #leftcase\n",
    "                        if not seq5:\n",
    "                            for i in range (4):\n",
    "                                seq5.append(\"LTURN\")\n",
    "                        else:\n",
    "                            for i in range (4):\n",
    "                                seq6.append(\"LTURN\")\n",
    "                    elif item[index+1]==\"right\": #rightcase\n",
    "                        if not seq5:\n",
    "                            for i in range (4):\n",
    "                                seq5.append(\"RTURN\")\n",
    "                        else:\n",
    "                            for i in range (4):\n",
    "                                seq6.append(\"RTURN\")\n",
    "            else: # when turn is not first word in the sequence\n",
    "                \n",
    "               \n",
    "                \n",
    "        \n",
    "print(seq5)\n",
    "print(seq6)"
   ]
  },
  {
   "cell_type": "code",
   "execution_count": null,
   "id": "e04e982a-9dbe-49a0-a3ee-469563a7b15b",
   "metadata": {},
   "outputs": [],
   "source": []
  }
 ],
 "metadata": {
  "kernelspec": {
   "display_name": "caricaturesenv",
   "language": "python",
   "name": "caricaturesenv"
  },
  "language_info": {
   "codemirror_mode": {
    "name": "ipython",
    "version": 3
   },
   "file_extension": ".py",
   "mimetype": "text/x-python",
   "name": "python",
   "nbconvert_exporter": "python",
   "pygments_lexer": "ipython3",
   "version": "3.12.4"
  }
 },
 "nbformat": 4,
 "nbformat_minor": 5
}
